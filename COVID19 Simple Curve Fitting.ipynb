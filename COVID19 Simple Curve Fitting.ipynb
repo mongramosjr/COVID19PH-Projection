{
 "cells": [
  {
   "cell_type": "markdown",
   "metadata": {},
   "source": [
    "We can use the logistic model in estimating the size and the peak time of the coronavirus epidemic in Philippines. Logistic model uses a logistic function.\n",
    "\n",
    "A logistic function or logistic curve is a common S-shaped curve (sigmoid curve) with equation\n",
    "\n",
    "$f(x)={\\frac {L}{1+e^{-k(x-x_{0})}}}$\n",
    "\n",
    "where\n",
    "\n",
    "*e* = the natural logarithm base (also known as Euler's number)\n",
    "\n",
    "*$x_{0}$* = the x value of the sigmoid's midpoint,\n",
    "\n",
    "*L* = the curve's maximum value,\n",
    "\n",
    "*k* = the logistic growth rate or steepness of the curve."
   ]
  },
  {
   "cell_type": "code",
   "execution_count": 1,
   "metadata": {},
   "outputs": [],
   "source": [
    "import numpy as np\n",
    "import matplotlib.pyplot as plt\n",
    "import pandas as pd\n",
    "import pymc3 as pm\n",
    "from scipy import optimize\n",
    "from datetime import datetime, timedelta\n",
    "\n",
    "import matplotlib.dates as mdates\n",
    "\n",
    "\n",
    "tab10 = ['#1F77B4', '#FF7F0E', '#2CA02C', '#D62728', '#9467BD', \n",
    "         '#8C564B', '#CFECF9', '#7F7F7F', '#BCBD22', '#17BECF']\n",
    "\n",
    "%matplotlib inline"
   ]
  },
  {
   "cell_type": "code",
   "execution_count": 2,
   "metadata": {
    "scrolled": false
   },
   "outputs": [
    {
     "data": {
      "text/html": [
       "<div>\n",
       "<style scoped>\n",
       "    .dataframe tbody tr th:only-of-type {\n",
       "        vertical-align: middle;\n",
       "    }\n",
       "\n",
       "    .dataframe tbody tr th {\n",
       "        vertical-align: top;\n",
       "    }\n",
       "\n",
       "    .dataframe thead th {\n",
       "        text-align: right;\n",
       "    }\n",
       "</style>\n",
       "<table border=\"1\" class=\"dataframe\">\n",
       "  <thead>\n",
       "    <tr style=\"text-align: right;\">\n",
       "      <th></th>\n",
       "      <th>date</th>\n",
       "      <th>total_cases</th>\n",
       "      <th>new_cases</th>\n",
       "      <th>new_death</th>\n",
       "      <th>total_death</th>\n",
       "      <th>new_recovered</th>\n",
       "      <th>total_recovered</th>\n",
       "      <th>total_active_case</th>\n",
       "    </tr>\n",
       "  </thead>\n",
       "  <tbody>\n",
       "    <tr>\n",
       "      <th>0</th>\n",
       "      <td>2020-01-29</td>\n",
       "      <td>0.0</td>\n",
       "      <td>0.0</td>\n",
       "      <td>0.0</td>\n",
       "      <td>0.0</td>\n",
       "      <td>0.0</td>\n",
       "      <td>0.0</td>\n",
       "      <td>0</td>\n",
       "    </tr>\n",
       "    <tr>\n",
       "      <th>1</th>\n",
       "      <td>2020-01-30</td>\n",
       "      <td>0.0</td>\n",
       "      <td>0.0</td>\n",
       "      <td>0.0</td>\n",
       "      <td>0.0</td>\n",
       "      <td>0.0</td>\n",
       "      <td>0.0</td>\n",
       "      <td>0</td>\n",
       "    </tr>\n",
       "    <tr>\n",
       "      <th>2</th>\n",
       "      <td>2020-01-31</td>\n",
       "      <td>1.0</td>\n",
       "      <td>0.0</td>\n",
       "      <td>0.0</td>\n",
       "      <td>0.0</td>\n",
       "      <td>0.0</td>\n",
       "      <td>0.0</td>\n",
       "      <td>0</td>\n",
       "    </tr>\n",
       "  </tbody>\n",
       "</table>\n",
       "</div>"
      ],
      "text/plain": [
       "         date  total_cases  new_cases  new_death  total_death  new_recovered  \\\n",
       "0  2020-01-29          0.0        0.0        0.0          0.0            0.0   \n",
       "1  2020-01-30          0.0        0.0        0.0          0.0            0.0   \n",
       "2  2020-01-31          1.0        0.0        0.0          0.0            0.0   \n",
       "\n",
       "   total_recovered total_active_case  \n",
       "0              0.0                 0  \n",
       "1              0.0                 0  \n",
       "2              0.0                 0  "
      ]
     },
     "execution_count": 2,
     "metadata": {},
     "output_type": "execute_result"
    }
   ],
   "source": [
    "#### Get the data\n",
    "df = pd.read_csv('ph_covid19_daily_data.csv')\n",
    "df = df.fillna(0)\n",
    "df.head(3)"
   ]
  },
  {
   "cell_type": "code",
   "execution_count": 3,
   "metadata": {},
   "outputs": [],
   "source": [
    "#### Plot the data\n",
    "def plot_result(raw_data, label = \"Confirmed Cases\", **kwargs):\n",
    "    \n",
    "    predicted = kwargs.get('predicted', None)\n",
    "    \n",
    "    if predicted is not None:\n",
    "        interval = len(predicted) // 10\n",
    "    else:\n",
    "        interval = len(raw_data) // 10\n",
    "\n",
    "    day_loc = mdates.DayLocator(interval=interval)  # every day\n",
    "    date_fmt = mdates.DateFormatter('%Y-%m-%d')\n",
    "\n",
    "    fig, ax = plt.subplots()\n",
    "    \n",
    "    fig.suptitle(label)\n",
    "    \n",
    "    ax.scatter(raw_data.index, raw_data.values, label='Actual')\n",
    "    \n",
    "    if predicted is not None:\n",
    "        ax.plot(predicted.index, predicted.values, '--r', label='Fitted')\n",
    "    \n",
    "\n",
    "    # format the ticks\n",
    "    ax.xaxis.set_major_locator(day_loc)\n",
    "    ax.xaxis.set_major_formatter(date_fmt)\n",
    "    \n",
    "    #ax.set_xlim(date_min, date_max)\n",
    "\n",
    "    # format the coords message box\n",
    "    ax.format_xdata = mdates.DateFormatter('%Y-%m-%d')\n",
    "    ax.grid(False)\n",
    "\n",
    "    # rotates and right aligns the x labels, and moves the bottom of the\n",
    "    # axes up to make room for them\n",
    "    fig.autofmt_xdate()\n",
    "    \n",
    "    ax.legend()\n",
    "    #plt.legend(['Actual','Fitted'])\n",
    "        \n",
    "#### Curve fitting using logistic function\n",
    "def log_curve(x, k, x_0, ymax):\n",
    "    return ymax / (1 + np.exp(-k*(x-x_0)))"
   ]
  },
  {
   "cell_type": "code",
   "execution_count": 4,
   "metadata": {},
   "outputs": [],
   "source": [
    "#### Process the data, since day with 100th confirmed case\n",
    "df.date = pd.to_datetime(df.date)\n",
    "\n",
    "ph_total_cases = df[(df.total_cases > 0) & (df.date >= \"2020-03-14\") ].total_cases.to_list()\n",
    "#ph_date = df[(df.total_cases > 0)].date.dt.strftime('%Y-%m-%d').to_list()\n",
    "#date_forecast = pd.date_range(, periods=100).to_pydatetime().tolist()\n",
    "#date_forecast = np.array(pd.date_range(\"2020-04-10\", periods=30).strftime('%Y-%m-%d').tolist())\n",
    "\n",
    "ph_date = df[(df.total_cases > 0) & (df.date >= \"2020-03-14\")].date.to_list()\n",
    "last_reported_ph_date = ph_date[-1]\n",
    "\n",
    "#ph_date_forecast = pd.date_range(datetime.today().strftime(\"%Y-%m-%d\"), periods=30).tolist()\n",
    "ph_date_forecast = pd.date_range(last_reported_ph_date + timedelta(days=1), periods=30).tolist()\n",
    "\n",
    "y_ph_total_cases = np.array(ph_total_cases)\n",
    "x_ph_total_cases = np.arange(0, len(y_ph_total_cases))\n",
    "\n",
    "x_ph_date = np.array(ph_date)\n",
    "x_ph_date_forecast = np.array(ph_date_forecast)"
   ]
  },
  {
   "cell_type": "code",
   "execution_count": 5,
   "metadata": {
    "scrolled": true
   },
   "outputs": [
    {
     "data": {
      "text/html": [
       "<div>\n",
       "<style scoped>\n",
       "    .dataframe tbody tr th:only-of-type {\n",
       "        vertical-align: middle;\n",
       "    }\n",
       "\n",
       "    .dataframe tbody tr th {\n",
       "        vertical-align: top;\n",
       "    }\n",
       "\n",
       "    .dataframe thead th {\n",
       "        text-align: right;\n",
       "    }\n",
       "</style>\n",
       "<table border=\"1\" class=\"dataframe\">\n",
       "  <thead>\n",
       "    <tr style=\"text-align: right;\">\n",
       "      <th></th>\n",
       "      <th>date</th>\n",
       "      <th>total_cases</th>\n",
       "      <th>new_cases</th>\n",
       "      <th>new_death</th>\n",
       "      <th>total_death</th>\n",
       "      <th>new_recovered</th>\n",
       "      <th>total_recovered</th>\n",
       "      <th>total_active_case</th>\n",
       "    </tr>\n",
       "  </thead>\n",
       "  <tbody>\n",
       "    <tr>\n",
       "      <th>45</th>\n",
       "      <td>2020-03-14</td>\n",
       "      <td>111.0</td>\n",
       "      <td>13.0</td>\n",
       "      <td>2.0</td>\n",
       "      <td>0.0</td>\n",
       "      <td>0.0</td>\n",
       "      <td>0.0</td>\n",
       "      <td>111</td>\n",
       "    </tr>\n",
       "    <tr>\n",
       "      <th>46</th>\n",
       "      <td>2020-03-15</td>\n",
       "      <td>140.0</td>\n",
       "      <td>29.0</td>\n",
       "      <td>3.0</td>\n",
       "      <td>12.0</td>\n",
       "      <td>2.0</td>\n",
       "      <td>2.0</td>\n",
       "      <td>126</td>\n",
       "    </tr>\n",
       "    <tr>\n",
       "      <th>47</th>\n",
       "      <td>2020-03-16</td>\n",
       "      <td>142.0</td>\n",
       "      <td>2.0</td>\n",
       "      <td>0.0</td>\n",
       "      <td>12.0</td>\n",
       "      <td>1.0</td>\n",
       "      <td>3.0</td>\n",
       "      <td>127</td>\n",
       "    </tr>\n",
       "  </tbody>\n",
       "</table>\n",
       "</div>"
      ],
      "text/plain": [
       "         date  total_cases  new_cases  new_death  total_death  new_recovered  \\\n",
       "45 2020-03-14        111.0       13.0        2.0          0.0            0.0   \n",
       "46 2020-03-15        140.0       29.0        3.0         12.0            2.0   \n",
       "47 2020-03-16        142.0        2.0        0.0         12.0            1.0   \n",
       "\n",
       "    total_recovered total_active_case  \n",
       "45              0.0               111  \n",
       "46              2.0               126  \n",
       "47              3.0               127  "
      ]
     },
     "execution_count": 5,
     "metadata": {},
     "output_type": "execute_result"
    }
   ],
   "source": [
    "df[(df.total_cases > 0) & (df.date >= \"2020-03-14\")].head(3)"
   ]
  },
  {
   "cell_type": "code",
   "execution_count": 6,
   "metadata": {},
   "outputs": [
    {
     "data": {
      "text/html": [
       "<div>\n",
       "<style scoped>\n",
       "    .dataframe tbody tr th:only-of-type {\n",
       "        vertical-align: middle;\n",
       "    }\n",
       "\n",
       "    .dataframe tbody tr th {\n",
       "        vertical-align: top;\n",
       "    }\n",
       "\n",
       "    .dataframe thead th {\n",
       "        text-align: right;\n",
       "    }\n",
       "</style>\n",
       "<table border=\"1\" class=\"dataframe\">\n",
       "  <thead>\n",
       "    <tr style=\"text-align: right;\">\n",
       "      <th></th>\n",
       "      <th>date</th>\n",
       "      <th>total_cases</th>\n",
       "      <th>new_cases</th>\n",
       "      <th>new_death</th>\n",
       "      <th>total_death</th>\n",
       "      <th>new_recovered</th>\n",
       "      <th>total_recovered</th>\n",
       "      <th>total_active_case</th>\n",
       "    </tr>\n",
       "  </thead>\n",
       "  <tbody>\n",
       "    <tr>\n",
       "      <th>81</th>\n",
       "      <td>2020-04-19</td>\n",
       "      <td>6259.0</td>\n",
       "      <td>172.0</td>\n",
       "      <td>12.0</td>\n",
       "      <td>409.0</td>\n",
       "      <td>56.0</td>\n",
       "      <td>572.0</td>\n",
       "      <td>5,278</td>\n",
       "    </tr>\n",
       "    <tr>\n",
       "      <th>82</th>\n",
       "      <td>2020-04-20</td>\n",
       "      <td>6459.0</td>\n",
       "      <td>200.0</td>\n",
       "      <td>19.0</td>\n",
       "      <td>428.0</td>\n",
       "      <td>41.0</td>\n",
       "      <td>613.0</td>\n",
       "      <td>5,418</td>\n",
       "    </tr>\n",
       "    <tr>\n",
       "      <th>83</th>\n",
       "      <td>2020-04-21</td>\n",
       "      <td>6599.0</td>\n",
       "      <td>140.0</td>\n",
       "      <td>9.0</td>\n",
       "      <td>437.0</td>\n",
       "      <td>41.0</td>\n",
       "      <td>654.0</td>\n",
       "      <td>5,508</td>\n",
       "    </tr>\n",
       "  </tbody>\n",
       "</table>\n",
       "</div>"
      ],
      "text/plain": [
       "         date  total_cases  new_cases  new_death  total_death  new_recovered  \\\n",
       "81 2020-04-19       6259.0      172.0       12.0        409.0           56.0   \n",
       "82 2020-04-20       6459.0      200.0       19.0        428.0           41.0   \n",
       "83 2020-04-21       6599.0      140.0        9.0        437.0           41.0   \n",
       "\n",
       "    total_recovered total_active_case  \n",
       "81            572.0             5,278  \n",
       "82            613.0             5,418  \n",
       "83            654.0             5,508  "
      ]
     },
     "execution_count": 6,
     "metadata": {},
     "output_type": "execute_result"
    }
   ],
   "source": [
    "df[(df.total_cases > 0) & (df.date >= \"2020-03-14\")].tail(3)"
   ]
  },
  {
   "cell_type": "code",
   "execution_count": 7,
   "metadata": {
    "scrolled": true
   },
   "outputs": [
    {
     "data": {
      "image/png": "[encoded data removed]",
      "text/plain": [
       "<Figure size 432x288 with 1 Axes>"
      ]
     },
     "metadata": {
      "needs_background": "light"
     },
     "output_type": "display_data"
    }
   ],
   "source": [
    "#### Plot the confirmed cases\n",
    "confirmed_cases = pd.Series(y_ph_total_cases, index=x_ph_date)\n",
    "plot_result(confirmed_cases, 'Confirmed Cases')\n",
    "\n"
   ]
  },
  {
   "cell_type": "code",
   "execution_count": 8,
   "metadata": {},
   "outputs": [
    {
     "name": "stdout",
     "output_type": "stream",
     "text": [
      "[1.63540027e-01 2.32148479e+01 6.88716703e+03]\n"
     ]
    }
   ],
   "source": [
    "#### Fit the curve\n",
    "params, params_covariance = optimize.curve_fit(log_curve, x_ph_total_cases, y_ph_total_cases, \n",
    "                                               bounds=([0,0,0],np.inf), maxfev=10000)\n",
    "estimated_k, estimated_x_0, ymax = params\n",
    "\n",
    "print(params)"
   ]
  },
  {
   "cell_type": "code",
   "execution_count": 9,
   "metadata": {},
   "outputs": [],
   "source": [
    "#### Plot the fitted curve\n",
    "k = estimated_k\n",
    "x_0 = estimated_x_0\n",
    "\n",
    "x_fitted = np.arange(0, len(y_ph_total_cases) + 30)\n",
    "y_fitted = log_curve(x_fitted, k, x_0, ymax)"
   ]
  },
  {
   "cell_type": "code",
   "execution_count": 10,
   "metadata": {},
   "outputs": [
    {
     "data": {
      "image/png": "[encoded data removed]",
      "text/plain": [
       "<Figure size 432x288 with 1 Axes>"
      ]
     },
     "metadata": {
      "needs_background": "light"
     },
     "output_type": "display_data"
    }
   ],
   "source": [
    "x_label = np.append(x_ph_date, x_ph_date_forecast, axis=0)\n",
    "\n",
    "forecast_cases = pd.Series(y_fitted, index=x_label)\n",
    "plot_result(confirmed_cases, 'Confirmed Cases', predicted=forecast_cases)"
   ]
  },
  {
   "cell_type": "code",
   "execution_count": 11,
   "metadata": {},
   "outputs": [
    {
     "data": {
      "text/plain": [
       "2020-05-17    6878.442466\n",
       "2020-05-18    6879.757303\n",
       "2020-05-19    6880.874169\n",
       "2020-05-20    6881.822821\n",
       "2020-05-21    6882.628557\n",
       "dtype: float64"
      ]
     },
     "execution_count": 11,
     "metadata": {},
     "output_type": "execute_result"
    }
   ],
   "source": [
    "forecast_cases.tail()"
   ]
  }
 ],
 "metadata": {
  "kernelspec": {
   "display_name": "Python 3",
   "language": "python",
   "name": "python3"
  },
  "language_info": {
   "codemirror_mode": {
    "name": "ipython",
    "version": 3
   },
   "file_extension": ".py",
   "mimetype": "text/x-python",
   "name": "python",
   "nbconvert_exporter": "python",
   "pygments_lexer": "ipython3",
   "version": "3.6.4"
  }
 },
 "nbformat": 4,
 "nbformat_minor": 4
}
