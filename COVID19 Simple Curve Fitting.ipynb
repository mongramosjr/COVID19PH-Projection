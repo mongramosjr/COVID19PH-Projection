{
 "cells": [
  {
   "cell_type": "markdown",
   "metadata": {},
   "source": [
    "We can use the logistic model in estimating the size and the peak time of the coronavirus epidemic in Philippines. Logistic model uses a logistic function.\n",
    "\n",
    "A logistic function or logistic curve is a common S-shaped curve (sigmoid curve) with equation\n",
    "\n",
    "$f(x)={\\frac {L}{1+e^{-k(x-x_{0})}}}$\n",
    "\n",
    "where\n",
    "\n",
    "*e* = the natural logarithm base (also known as Euler's number)\n",
    "\n",
    "*$x_{0}$* = the x value of the sigmoid's midpoint,\n",
    "\n",
    "*L* = the curve's maximum value,\n",
    "\n",
    "*k* = the logistic growth rate or steepness of the curve."
   ]
  },
  {
   "cell_type": "code",
   "execution_count": 1,
   "metadata": {},
   "outputs": [],
   "source": [
    "import numpy as np\n",
    "import matplotlib.pyplot as plt\n",
    "import pandas as pd\n",
    "import pymc3 as pm\n",
    "from scipy import optimize\n",
    "from datetime import datetime\n",
    "\n",
    "import matplotlib.dates as mdates\n",
    "\n",
    "\n",
    "tab10 = ['#1F77B4', '#FF7F0E', '#2CA02C', '#D62728', '#9467BD', \n",
    "         '#8C564B', '#CFECF9', '#7F7F7F', '#BCBD22', '#17BECF']\n",
    "\n",
    "%matplotlib inline"
   ]
  },
  {
   "cell_type": "code",
   "execution_count": 2,
   "metadata": {
    "scrolled": false
   },
   "outputs": [
    {
     "data": {
      "text/html": [
       "<div>\n",
       "<style scoped>\n",
       "    .dataframe tbody tr th:only-of-type {\n",
       "        vertical-align: middle;\n",
       "    }\n",
       "\n",
       "    .dataframe tbody tr th {\n",
       "        vertical-align: top;\n",
       "    }\n",
       "\n",
       "    .dataframe thead th {\n",
       "        text-align: right;\n",
       "    }\n",
       "</style>\n",
       "<table border=\"1\" class=\"dataframe\">\n",
       "  <thead>\n",
       "    <tr style=\"text-align: right;\">\n",
       "      <th></th>\n",
       "      <th>date</th>\n",
       "      <th>total_cases</th>\n",
       "      <th>new_cases</th>\n",
       "      <th>new_death</th>\n",
       "      <th>total_death</th>\n",
       "      <th>new_recovered</th>\n",
       "      <th>total_recovered</th>\n",
       "      <th>total_active_case</th>\n",
       "    </tr>\n",
       "  </thead>\n",
       "  <tbody>\n",
       "    <tr>\n",
       "      <th>96</th>\n",
       "      <td>2020-05-04</td>\n",
       "      <td>0.0</td>\n",
       "      <td>0.0</td>\n",
       "      <td>0.0</td>\n",
       "      <td>0.0</td>\n",
       "      <td>0.0</td>\n",
       "      <td>0.0</td>\n",
       "      <td>0</td>\n",
       "    </tr>\n",
       "    <tr>\n",
       "      <th>97</th>\n",
       "      <td>2020-05-05</td>\n",
       "      <td>0.0</td>\n",
       "      <td>0.0</td>\n",
       "      <td>0.0</td>\n",
       "      <td>0.0</td>\n",
       "      <td>0.0</td>\n",
       "      <td>0.0</td>\n",
       "      <td>0</td>\n",
       "    </tr>\n",
       "    <tr>\n",
       "      <th>98</th>\n",
       "      <td>2020-05-06</td>\n",
       "      <td>0.0</td>\n",
       "      <td>0.0</td>\n",
       "      <td>0.0</td>\n",
       "      <td>0.0</td>\n",
       "      <td>0.0</td>\n",
       "      <td>0.0</td>\n",
       "      <td>0</td>\n",
       "    </tr>\n",
       "  </tbody>\n",
       "</table>\n",
       "</div>"
      ],
      "text/plain": [
       "          date  total_cases  new_cases  new_death  total_death  new_recovered  \\\n",
       "96  2020-05-04          0.0        0.0        0.0          0.0            0.0   \n",
       "97  2020-05-05          0.0        0.0        0.0          0.0            0.0   \n",
       "98  2020-05-06          0.0        0.0        0.0          0.0            0.0   \n",
       "\n",
       "    total_recovered total_active_case  \n",
       "96              0.0                 0  \n",
       "97              0.0                 0  \n",
       "98              0.0                 0  "
      ]
     },
     "execution_count": 2,
     "metadata": {},
     "output_type": "execute_result"
    }
   ],
   "source": [
    "#### Get the data\n",
    "df = pd.read_csv('ph_covid19_daily_data.csv')\n",
    "df = df.fillna(0)\n",
    "df.tail(n=3)"
   ]
  },
  {
   "cell_type": "code",
   "execution_count": 3,
   "metadata": {},
   "outputs": [],
   "source": [
    "#### Plot the data\n",
    "def plot_result(raw_data, label = \"Confirmed Cases\", **kwargs):\n",
    "    \n",
    "    predicted = kwargs.get('predicted', None)\n",
    "    \n",
    "    if predicted is not None:\n",
    "        interval = len(predicted) // 10\n",
    "    else:\n",
    "        interval = len(raw_data) // 10\n",
    "\n",
    "    day_loc = mdates.DayLocator(interval=interval)  # every day\n",
    "    date_fmt = mdates.DateFormatter('%Y-%m-%d')\n",
    "\n",
    "    fig, ax = plt.subplots()\n",
    "    \n",
    "    fig.suptitle(label)\n",
    "    \n",
    "    ax.scatter(raw_data.index, raw_data.values, label='Actual')\n",
    "    \n",
    "    if predicted is not None:\n",
    "        ax.plot(predicted.index, predicted.values, '--r', label='Fitted')\n",
    "    \n",
    "\n",
    "    # format the ticks\n",
    "    ax.xaxis.set_major_locator(day_loc)\n",
    "    ax.xaxis.set_major_formatter(date_fmt)\n",
    "    \n",
    "    #ax.set_xlim(date_min, date_max)\n",
    "\n",
    "    # format the coords message box\n",
    "    ax.format_xdata = mdates.DateFormatter('%Y-%m-%d')\n",
    "    ax.grid(False)\n",
    "\n",
    "    # rotates and right aligns the x labels, and moves the bottom of the\n",
    "    # axes up to make room for them\n",
    "    fig.autofmt_xdate()\n",
    "    \n",
    "    ax.legend()\n",
    "    #plt.legend(['Actual','Fitted'])\n",
    "        \n",
    "#### Curve fitting using logistic function\n",
    "def log_curve(x, k, x_0, ymax):\n",
    "    return ymax / (1 + np.exp(-k*(x-x_0)))"
   ]
  },
  {
   "cell_type": "code",
   "execution_count": 4,
   "metadata": {},
   "outputs": [],
   "source": [
    "## Process the data\n",
    "df.date = pd.to_datetime(df.date)\n",
    "\n",
    "ph_total_cases = df[(df.total_cases > 0)].total_cases.to_list()\n",
    "#ph_date = df[(df.total_cases > 0)].date.dt.strftime('%Y-%m-%d').to_list()\n",
    "#date_forecast = pd.date_range(, periods=100).to_pydatetime().tolist()\n",
    "#date_forecast = np.array(pd.date_range(\"2020-04-10\", periods=30).strftime('%Y-%m-%d').tolist())\n",
    "\n",
    "ph_date = df[(df.total_cases > 0)].date.to_list()\n",
    "ph_date_forecast = pd.date_range(\"2020-04-10\", periods=30).tolist()\n",
    "\n",
    "\n",
    "y_ph_total_cases = np.array(ph_total_cases[-30:])\n",
    "x_ph_total_cases = np.arange(0, len(y_ph_total_cases))\n",
    "\n",
    "x_ph_date = np.array(ph_date[-30:])\n",
    "x_ph_date_forecast = np.array(ph_date_forecast)"
   ]
  },
  {
   "cell_type": "code",
   "execution_count": 5,
   "metadata": {
    "scrolled": true
   },
   "outputs": [
    {
     "data": {
      "image/png": "[encoded data removed]",
      "text/plain": [
       "<Figure size 432x288 with 1 Axes>"
      ]
     },
     "metadata": {
      "needs_background": "light"
     },
     "output_type": "display_data"
    }
   ],
   "source": [
    "## Plot the confirmed cases\n",
    "confirmed_cases = pd.Series(y_ph_total_cases, index=x_ph_date)\n",
    "plot_result(confirmed_cases, 'Confirmed Cases')\n",
    "\n"
   ]
  },
  {
   "cell_type": "code",
   "execution_count": 6,
   "metadata": {},
   "outputs": [
    {
     "name": "stdout",
     "output_type": "stream",
     "text": [
      "[2.58759582e-01 2.10865684e+01 4.59128712e+03]\n"
     ]
    }
   ],
   "source": [
    "#### Fit the curve\n",
    "params, params_covariance = optimize.curve_fit(log_curve, x_ph_total_cases, y_ph_total_cases, \n",
    "                                               bounds=([0,0,0],np.inf))\n",
    "estimated_k, estimated_x_0, ymax = params\n",
    "\n",
    "print(params)"
   ]
  },
  {
   "cell_type": "code",
   "execution_count": 7,
   "metadata": {},
   "outputs": [],
   "source": [
    "# Plot the fitted curve\n",
    "k = estimated_k\n",
    "x_0 = estimated_x_0\n",
    "\n",
    "x_fitted = np.arange(0, len(y_ph_total_cases) + 30)\n",
    "y_fitted = log_curve(x_fitted, k, x_0, ymax)"
   ]
  },
  {
   "cell_type": "code",
   "execution_count": 8,
   "metadata": {},
   "outputs": [
    {
     "data": {
      "image/png": "[encoded data removed]",
      "text/plain": [
       "<Figure size 432x288 with 1 Axes>"
      ]
     },
     "metadata": {
      "needs_background": "light"
     },
     "output_type": "display_data"
    }
   ],
   "source": [
    "x_label = np.append(x_ph_date, x_ph_date_forecast, axis=0)\n",
    "\n",
    "forecast_cases = pd.Series(y_fitted, index=x_label)\n",
    "plot_result(confirmed_cases, 'Confirmed Cases', predicted=forecast_cases)"
   ]
  },
  {
   "cell_type": "code",
   "execution_count": 9,
   "metadata": {},
   "outputs": [
    {
     "data": {
      "text/plain": [
       "2020-05-05    4590.577951\n",
       "2020-05-06    4590.739615\n",
       "2020-05-07    4590.864430\n",
       "2020-05-08    4590.960792\n",
       "2020-05-09    4591.035187\n",
       "dtype: float64"
      ]
     },
     "execution_count": 9,
     "metadata": {},
     "output_type": "execute_result"
    }
   ],
   "source": [
    "forecast_cases.tail()"
   ]
  }
 ],
 "metadata": {
  "kernelspec": {
   "display_name": "Python 3",
   "language": "python",
   "name": "python3"
  },
  "language_info": {
   "codemirror_mode": {
    "name": "ipython",
    "version": 3
   },
   "file_extension": ".py",
   "mimetype": "text/x-python",
   "name": "python",
   "nbconvert_exporter": "python",
   "pygments_lexer": "ipython3",
   "version": "3.6.4"
  }
 },
 "nbformat": 4,
 "nbformat_minor": 4
}
