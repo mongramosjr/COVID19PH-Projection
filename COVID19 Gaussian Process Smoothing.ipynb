{
 "cells": [
  {
   "cell_type": "code",
   "execution_count": 1,
   "metadata": {},
   "outputs": [],
   "source": [
    "import numpy as np\n",
    "import matplotlib.pyplot as plt\n",
    "import pandas as pd\n",
    "from scipy.optimize import curve_fit\n",
    "\n",
    "import pymc3 as pm\n",
    "import theano.tensor as tt\n",
    "import scipy.stats as stats\n",
    "\n",
    "from theano import shared\n",
    "from pymc3.distributions.timeseries import GaussianRandomWalk\n",
    "from scipy import optimize\n",
    "\n",
    "\n",
    "tab10 = ['#1F77B4', '#FF7F0E', '#2CA02C', '#D62728', '#9467BD', \n",
    "         '#8C564B', '#CFECF9', '#7F7F7F', '#BCBD22', '#17BECF']\n",
    "\n",
    "%matplotlib inline"
   ]
  },
  {
   "cell_type": "code",
   "execution_count": 2,
   "metadata": {},
   "outputs": [
    {
     "data": {
      "text/html": [
       "<div>\n",
       "<style scoped>\n",
       "    .dataframe tbody tr th:only-of-type {\n",
       "        vertical-align: middle;\n",
       "    }\n",
       "\n",
       "    .dataframe tbody tr th {\n",
       "        vertical-align: top;\n",
       "    }\n",
       "\n",
       "    .dataframe thead th {\n",
       "        text-align: right;\n",
       "    }\n",
       "</style>\n",
       "<table border=\"1\" class=\"dataframe\">\n",
       "  <thead>\n",
       "    <tr style=\"text-align: right;\">\n",
       "      <th></th>\n",
       "      <th>date</th>\n",
       "      <th>location</th>\n",
       "      <th>new_cases</th>\n",
       "      <th>new_deaths</th>\n",
       "      <th>total_cases</th>\n",
       "      <th>total_deaths</th>\n",
       "    </tr>\n",
       "  </thead>\n",
       "  <tbody>\n",
       "    <tr>\n",
       "      <th>0</th>\n",
       "      <td>2/25/20</td>\n",
       "      <td>Afghanistan</td>\n",
       "      <td>NaN</td>\n",
       "      <td>NaN</td>\n",
       "      <td>1</td>\n",
       "      <td>NaN</td>\n",
       "    </tr>\n",
       "    <tr>\n",
       "      <th>1</th>\n",
       "      <td>2/26/20</td>\n",
       "      <td>Afghanistan</td>\n",
       "      <td>0.0</td>\n",
       "      <td>NaN</td>\n",
       "      <td>1</td>\n",
       "      <td>NaN</td>\n",
       "    </tr>\n",
       "    <tr>\n",
       "      <th>2</th>\n",
       "      <td>2/27/20</td>\n",
       "      <td>Afghanistan</td>\n",
       "      <td>0.0</td>\n",
       "      <td>NaN</td>\n",
       "      <td>1</td>\n",
       "      <td>NaN</td>\n",
       "    </tr>\n",
       "  </tbody>\n",
       "</table>\n",
       "</div>"
      ],
      "text/plain": [
       "      date     location  new_cases  new_deaths  total_cases  total_deaths\n",
       "0  2/25/20  Afghanistan        NaN         NaN            1           NaN\n",
       "1  2/26/20  Afghanistan        0.0         NaN            1           NaN\n",
       "2  2/27/20  Afghanistan        0.0         NaN            1           NaN"
      ]
     },
     "execution_count": 2,
     "metadata": {},
     "output_type": "execute_result"
    }
   ],
   "source": [
    "df = pd.read_csv('full_data.csv')\n",
    "df.head(n=3)"
   ]
  },
  {
   "cell_type": "code",
   "execution_count": 3,
   "metadata": {},
   "outputs": [
    {
     "data": {
      "text/plain": [
       "array(['Afghanistan', 'Albania', 'Algeria', 'Andorra',\n",
       "       'Antigua and Barbuda', 'Argentina', 'Armenia', 'Australia',\n",
       "       'Austria', 'Azerbaijan', 'Bahrain', 'Bangladesh', 'Belarus',\n",
       "       'Belgium', 'Bhutan', 'Bolivia', 'Bosnia and Herzegovina', 'Brazil',\n",
       "       'Brunei', 'Bulgaria', 'Burkina Faso', 'Cambodia', 'Cameroon',\n",
       "       'Canada', 'Cayman Islands', 'Chile', 'China', 'Colombia',\n",
       "       'Costa Rica', 'Croatia', 'Cuba', 'Cyprus', 'Czech Republic',\n",
       "       \"Cote d'Ivoire\", 'Democratic Republic of Congo', 'Denmark',\n",
       "       'Dominican Republic', 'Ecuador', 'Egypt', 'Estonia', 'Ethiopia',\n",
       "       'Faeroe Islands', 'Finland', 'France', 'French Guiana',\n",
       "       'French Polynesia', 'Gabon', 'Georgia', 'Germany', 'Ghana',\n",
       "       'Gibraltar', 'Greece', 'Guadeloupe', 'Guernsey', 'Guinea',\n",
       "       'Guyana', 'Vatican', 'Honduras', 'Hungary', 'Iceland', 'India',\n",
       "       'Indonesia', 'International', 'Iran', 'Iraq', 'Ireland', 'Israel',\n",
       "       'Italy', 'Jamaica', 'Japan', 'Jersey', 'Jordan', 'Kenya', 'Kuwait',\n",
       "       'Latvia', 'Lebanon', 'Liechtenstein', 'Lithuania', 'Luxembourg',\n",
       "       'Malaysia', 'Maldives', 'Malta', 'Martinique', 'Mexico', 'Monaco',\n",
       "       'Mongolia', 'Morocco', 'Nepal', 'Netherlands', 'New Zealand',\n",
       "       'Nigeria', 'Macedonia', 'Norway', 'Palestine', 'Oman', 'Pakistan',\n",
       "       'Panama', 'Paraguay', 'Peru', 'Philippines', 'Poland', 'Portugal',\n",
       "       'Puerto Rico', 'Qatar', 'South Korea', 'Moldova', 'Romania',\n",
       "       'Russia', 'Reunion', 'Saint Barthlemy',\n",
       "       'Saint Martin (French part)', 'Saint Vincent and the Grenadines',\n",
       "       'San Marino', 'Saudi Arabia', 'Senegal', 'Serbia', 'Singapore',\n",
       "       'Slovakia', 'Slovenia', 'South Africa', 'Spain', 'Sri Lanka',\n",
       "       'Sudan', 'Sweden', 'Switzerland', 'Thailand', 'United Kingdom',\n",
       "       'Togo', 'Trinidad and Tobago', 'Tunisia', 'Turkey', 'Ukraine',\n",
       "       'United Arab Emirates', 'United States', 'Venezuela', 'Vietnam',\n",
       "       'World'], dtype=object)"
      ]
     },
     "execution_count": 3,
     "metadata": {},
     "output_type": "execute_result"
    }
   ],
   "source": [
    "df.location.unique()"
   ]
  },
  {
   "cell_type": "code",
   "execution_count": 4,
   "metadata": {},
   "outputs": [
    {
     "name": "stdout",
     "output_type": "stream",
     "text": [
      "<class 'pandas.core.frame.DataFrame'>\n",
      "RangeIndex: 2408 entries, 0 to 2407\n",
      "Data columns (total 6 columns):\n",
      " #   Column        Non-Null Count  Dtype  \n",
      "---  ------        --------------  -----  \n",
      " 0   date          2408 non-null   object \n",
      " 1   location      2408 non-null   object \n",
      " 2   new_cases     2272 non-null   float64\n",
      " 3   new_deaths    418 non-null    float64\n",
      " 4   total_cases   2408 non-null   int64  \n",
      " 5   total_deaths  455 non-null    float64\n",
      "dtypes: float64(3), int64(1), object(2)\n",
      "memory usage: 113.0+ KB\n"
     ]
    }
   ],
   "source": [
    "df.info()"
   ]
  },
  {
   "cell_type": "code",
   "execution_count": 5,
   "metadata": {},
   "outputs": [],
   "source": [
    "df.date = pd.to_datetime(df.date)"
   ]
  },
  {
   "cell_type": "code",
   "execution_count": 6,
   "metadata": {},
   "outputs": [
    {
     "data": {
      "text/html": [
       "<div>\n",
       "<style scoped>\n",
       "    .dataframe tbody tr th:only-of-type {\n",
       "        vertical-align: middle;\n",
       "    }\n",
       "\n",
       "    .dataframe tbody tr th {\n",
       "        vertical-align: top;\n",
       "    }\n",
       "\n",
       "    .dataframe thead th {\n",
       "        text-align: right;\n",
       "    }\n",
       "</style>\n",
       "<table border=\"1\" class=\"dataframe\">\n",
       "  <thead>\n",
       "    <tr style=\"text-align: right;\">\n",
       "      <th></th>\n",
       "      <th>date</th>\n",
       "      <th>location</th>\n",
       "      <th>new_cases</th>\n",
       "      <th>new_deaths</th>\n",
       "      <th>total_cases</th>\n",
       "      <th>total_deaths</th>\n",
       "    </tr>\n",
       "  </thead>\n",
       "  <tbody>\n",
       "    <tr>\n",
       "      <th>0</th>\n",
       "      <td>2020-02-25</td>\n",
       "      <td>Afghanistan</td>\n",
       "      <td>0.0</td>\n",
       "      <td>0.0</td>\n",
       "      <td>1</td>\n",
       "      <td>0.0</td>\n",
       "    </tr>\n",
       "    <tr>\n",
       "      <th>1</th>\n",
       "      <td>2020-02-26</td>\n",
       "      <td>Afghanistan</td>\n",
       "      <td>0.0</td>\n",
       "      <td>0.0</td>\n",
       "      <td>1</td>\n",
       "      <td>0.0</td>\n",
       "    </tr>\n",
       "    <tr>\n",
       "      <th>2</th>\n",
       "      <td>2020-02-27</td>\n",
       "      <td>Afghanistan</td>\n",
       "      <td>0.0</td>\n",
       "      <td>0.0</td>\n",
       "      <td>1</td>\n",
       "      <td>0.0</td>\n",
       "    </tr>\n",
       "  </tbody>\n",
       "</table>\n",
       "</div>"
      ],
      "text/plain": [
       "        date     location  new_cases  new_deaths  total_cases  total_deaths\n",
       "0 2020-02-25  Afghanistan        0.0         0.0            1           0.0\n",
       "1 2020-02-26  Afghanistan        0.0         0.0            1           0.0\n",
       "2 2020-02-27  Afghanistan        0.0         0.0            1           0.0"
      ]
     },
     "execution_count": 6,
     "metadata": {},
     "output_type": "execute_result"
    }
   ],
   "source": [
    "df = df.fillna(0)\n",
    "df.head(n=3)"
   ]
  },
  {
   "cell_type": "code",
   "execution_count": 7,
   "metadata": {},
   "outputs": [],
   "source": [
    "italy = df[(df.location=='Italy') & (df.total_cases >= 0)].total_cases.to_list()\n",
    "southkorea = df[(df.location=='South Korea') & (df.total_cases >= 0)].total_cases.to_list()\n",
    "iran = df[(df.location=='Iran') & (df.total_cases >= 0)].total_cases.to_list()\n",
    "germany = df[(df.location=='Germany') & (df.total_cases >= 0)].total_cases.to_list()\n",
    "switzerland = df[(df.location=='Switzerland') & (df.total_cases >= 0)].total_cases.to_list()\n",
    "usa = df[(df.location=='United States') & (df.total_cases >= 0)].total_cases.to_list()\n",
    "philippines = df[(df.location=='Philippines') & (df.total_cases >= 0)].total_cases.to_list()\n",
    "china = df[(df.location=='China') & (df.total_cases >= 0)].total_cases.to_list()"
   ]
  },
  {
   "cell_type": "code",
   "execution_count": 8,
   "metadata": {},
   "outputs": [
    {
     "data": {
      "image/png": "[encoded data removed]",
      "text/plain": [
       "<Figure size 432x288 with 1 Axes>"
      ]
     },
     "metadata": {
      "needs_background": "light"
     },
     "output_type": "display_data"
    }
   ],
   "source": [
    "plt.plot(italy, 'o',\n",
    "         color=tab10[3], alpha = 0.8, label='Italy');\n",
    "plt.plot(southkorea, '^', \n",
    "         color=tab10[1], alpha = 0.8, label='South Korea');\n",
    "plt.plot(iran, 'v', \n",
    "         color=tab10[2], alpha = 0.8, label='Iran');\n",
    "plt.plot(germany, 's',   \n",
    "         color=tab10[4], alpha = 0.8, label='Germany');\n",
    "plt.plot(switzerland, '>', \n",
    "         color=tab10[5], alpha = 0.8, label='Switzerland');\n",
    "plt.plot(usa, '<', \n",
    "         color=tab10[8], alpha = 0.8, label='USA');\n",
    "plt.plot(philippines, '*',\n",
    "         color=tab10[0], alpha = 0.8, label='Philippines');\n",
    "\n",
    "\n",
    "plt.legend(frameon=False);\n",
    "plt.xlabel('Time');\n",
    "plt.ylabel('Total Confirmed Cases');"
   ]
  },
  {
   "cell_type": "code",
   "execution_count": 9,
   "metadata": {},
   "outputs": [
    {
     "data": {
      "image/png": "[encoded data removed]",
      "text/plain": [
       "<Figure size 432x288 with 1 Axes>"
      ]
     },
     "metadata": {
      "needs_background": "light"
     },
     "output_type": "display_data"
    }
   ],
   "source": [
    "plt.plot(china, '*',\n",
    "         color=tab10[6], alpha = 0.8, label='China');\n",
    "\n",
    "plt.legend(frameon=False);\n",
    "plt.xlabel('Time');\n",
    "plt.ylabel('Total Confirmed Cases');"
   ]
  },
  {
   "cell_type": "code",
   "execution_count": 10,
   "metadata": {},
   "outputs": [
    {
     "data": {
      "image/png": "[encoded data removed]",
      "text/plain": [
       "<Figure size 432x288 with 1 Axes>"
      ]
     },
     "metadata": {
      "needs_background": "light"
     },
     "output_type": "display_data"
    }
   ],
   "source": [
    "plt.plot(southkorea, '^', \n",
    "         color=tab10[1], alpha = 0.8, label='South Korea');\n",
    "\n",
    "plt.legend(frameon=False);\n",
    "plt.xlabel('Time');\n",
    "plt.ylabel('Total Confirmed Cases');"
   ]
  },
  {
   "cell_type": "code",
   "execution_count": 11,
   "metadata": {},
   "outputs": [
    {
     "data": {
      "image/png": "[encoded data removed]",
      "text/plain": [
       "<Figure size 432x288 with 1 Axes>"
      ]
     },
     "metadata": {
      "needs_background": "light"
     },
     "output_type": "display_data"
    }
   ],
   "source": [
    "plt.plot(philippines, '*',\n",
    "         color=tab10[0], alpha = 0.8, label='Philippines');\n",
    "plt.legend(frameon=False);\n",
    "plt.xlabel('Time');\n",
    "plt.ylabel('Total Confirmed Cases');\n"
   ]
  },
  {
   "cell_type": "code",
   "execution_count": 12,
   "metadata": {},
   "outputs": [],
   "source": [
    "##### GP Smoothing\n",
    "y_southkorea = southkorea[-30:]\n",
    "\n",
    "Y = np.array(y_southkorea)\n",
    "X = np.arange(0, len(y_southkorea))\n",
    "\n",
    "N_SAMPLES = 2000\n",
    "LARGE_NUMBER = 1e5\n",
    "with pm.Model() as covid_sokor_model:\n",
    "    𝛼 = pm.Uniform(\"𝛼\", lower=0,upper=1)\n",
    "    𝜇 = pm.Normal(\"𝜇\", sd=100)\n",
    "    τ = pm.Exponential(\"τ\", 1.0/100)\n",
    "    infection = GaussianRandomWalk(\"infection\",\n",
    "                           mu=𝜇,\n",
    "                           tau=τ / (1.0 - 𝛼),\n",
    "                           shape=Y.shape)\n",
    "    obs = pm.Normal(\"obs\",\n",
    "                    mu=infection,\n",
    "                    tau=τ / 𝛼,\n",
    "                    observed=Y)\n",
    "\n",
    "def infer_infection():\n",
    "    with covid_sokor_model:\n",
    "        res = pm.find_MAP(vars=[infection], method=\"L-BFGS-B\")\n",
    "        return res['infection']\n",
    "    \n"
   ]
  },
  {
   "cell_type": "code",
   "execution_count": 13,
   "metadata": {},
   "outputs": [
    {
     "name": "stderr",
     "output_type": "stream",
     "text": [
      "logp = -2.455e+08, ||grad|| = 4.8368: 100%|██████████| 22/22 [00:00<00:00, 937.48it/s]    \n"
     ]
    },
    {
     "data": {
      "image/png": "[encoded data removed]",
      "text/plain": [
       "<Figure size 432x288 with 1 Axes>"
      ]
     },
     "metadata": {
      "needs_background": "light"
     },
     "output_type": "display_data"
    }
   ],
   "source": [
    "Y_infer_infection = infer_infection()\n",
    "\n",
    "plt.plot(X, Y, '^', \n",
    "         color=tab10[1], alpha = 0.8, label='South Korea');\n",
    "\n",
    "plt.plot(X, Y_infer_infection, '^', \n",
    "         color=tab10[7], alpha = 0.8, label='Fit' );\n",
    "\n",
    "plt.legend(frameon=False);\n",
    "plt.xlabel('Time');\n",
    "plt.ylabel('Total Confirmed Cases');"
   ]
  }
 ],
 "metadata": {
  "kernelspec": {
   "display_name": "Python 3",
   "language": "python",
   "name": "python3"
  },
  "language_info": {
   "codemirror_mode": {
    "name": "ipython",
    "version": 3
   },
   "file_extension": ".py",
   "mimetype": "text/x-python",
   "name": "python",
   "nbconvert_exporter": "python",
   "pygments_lexer": "ipython3",
   "version": "3.6.4"
  }
 },
 "nbformat": 4,
 "nbformat_minor": 4
}
